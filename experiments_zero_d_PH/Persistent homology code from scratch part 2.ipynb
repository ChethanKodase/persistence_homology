{
 "cells": [
  {
   "cell_type": "code",
   "execution_count": 1,
   "id": "c5255a7d",
   "metadata": {},
   "outputs": [],
   "source": [
    "import sympy as sp\n",
    "import minterpy as mp\n",
    "import numpy as np\n",
    "from minterpy.pointcloud_utils import *\n",
    "\n",
    "from mpl_toolkits import mplot3d\n",
    "%matplotlib inline\n",
    "\n",
    "from mpl_toolkits.mplot3d import axes3d\n",
    "\n",
    "import torch\n",
    "import torchvision\n",
    "from torchvision import transforms, datasets\n",
    "\n",
    "import random\n",
    "import numpy as np\n",
    "import matplotlib.pyplot as plt\n",
    "\n",
    "import os\n",
    "from operator import itemgetter\n",
    "\n",
    "device = torch.device('cuda' if torch.cuda.is_available() else 'cpu')\n",
    "\n",
    "import ot\n",
    "\n",
    "from sklearn.neighbors import NearestNeighbors\n",
    "\n",
    "import ripser\n",
    "import persim\n",
    "from persim import plot_diagrams\n",
    "\n",
    "from operator import itemgetter\n",
    "\n",
    "\n",
    "#do pip installs as follows to use vedo for plotting point clouds\n",
    "#pip install vedo\n",
    "#pip install ipyvtklink\n",
    "\n",
    "import numpy as np\n",
    "from vedo import *\n",
    "\n",
    "import matplotlib.pyplot\n",
    "from mpl_toolkits.mplot3d import Axes3D\n",
    "\n",
    "import time\n"
   ]
  },
  {
   "cell_type": "code",
   "execution_count": 2,
   "id": "e3feb034",
   "metadata": {},
   "outputs": [],
   "source": [
    "def _compute_distance_matrix(x, p=2):\n",
    "    x_flat = x.view(x.size(0), -1)\n",
    "\n",
    "    distances = torch.norm(x_flat[:, None] - x_flat, dim=2, p=p)\n",
    "\n",
    "    return distances"
   ]
  },
  {
   "cell_type": "code",
   "execution_count": 3,
   "id": "705e4bc0",
   "metadata": {},
   "outputs": [],
   "source": [
    "def get_persistence_diagram(point_cloud, maximum_dim):\n",
    "\n",
    "    point_cloud = torch.tensor(point_cloud)\n",
    "\n",
    "    dist_matrix = _compute_distance_matrix(point_cloud, p=2)\n",
    "    diagrams = ripser.ripser(dist_matrix.cpu().detach().numpy(), distance_matrix=True, maxdim=maximum_dim)['dgms']\n",
    "    return diagrams, plot_diagrams(diagrams, show=True)\n"
   ]
  },
  {
   "cell_type": "markdown",
   "id": "40c6e93d",
   "metadata": {},
   "source": [
    "# My function to calculate 0 dimensional Persistent Homology in Pytorch"
   ]
  },
  {
   "cell_type": "code",
   "execution_count": 45,
   "id": "beab2424",
   "metadata": {},
   "outputs": [],
   "source": [
    "def get_zero_dim_PH(dist_matrix):\n",
    "    upp_diag = torch.triu(dist_matrix, diagonal=1)\n",
    "\n",
    "    ff = upp_diag.sort()\n",
    "\n",
    "    sorted_upper_diag_edges = ff[0]\n",
    "    #sorted_upper_diag_indices = ff[1]\n",
    "\n",
    "    flattened_uppdg_edges = torch.flatten(sorted_upper_diag_edges)\n",
    "\n",
    "    non_zero_flattened_uppdg_edges = flattened_uppdg_edges[flattened_uppdg_edges.nonzero()]\n",
    "\n",
    "\n",
    "    non_zero_flattened_uppdg_edges = non_zero_flattened_uppdg_edges.reshape(non_zero_flattened_uppdg_edges.shape[0])\n",
    "\n",
    "    increasing_edges = non_zero_flattened_uppdg_edges.sort()[0]\n",
    "\n",
    "\n",
    "    selected_edges = torch.tensor([])\n",
    "    dead_indices = torch.tensor([])\n",
    "    for i in range(increasing_edges.shape[0]):\n",
    "        a = (upp_diag == increasing_edges[i]).nonzero(as_tuple=False)\n",
    "        b = a[0][0]\n",
    "        b = b.reshape(1,1)  \n",
    "        if(b==0):\n",
    "            c = a[0][1]\n",
    "            if(not(c in dead_indices) ):\n",
    "\n",
    "                c = c.reshape(1,1)  \n",
    "                dead_indices = torch.cat(((dead_indices, c)), 0)\n",
    "                selected_edges = torch.cat(((selected_edges, a)), 0)\n",
    "\n",
    "        elif(not(b in dead_indices) or not(a[0][1] in dead_indices) ):\n",
    "            if(b in dead_indices):\n",
    "                d = a[0][1]\n",
    "                d = d.reshape(1,1)\n",
    "                dead_indices = torch.cat(((dead_indices, d)), 0)\n",
    "                selected_edges = torch.cat(((selected_edges, a)), 0)\n",
    "\n",
    "            else:\n",
    "                dead_indices = torch.cat(((dead_indices, b)), 0)\n",
    "                selected_edges = torch.cat(((selected_edges, a)), 0)\n",
    "\n",
    "    zeroD_PH = torch.tensor([])\n",
    "    for i in range(selected_edges.shape[0]):    \n",
    "        death = dist_matrix[int(selected_edges[i][0])][int(selected_edges[i][1])]\n",
    "        death = death.reshape(1,1)\n",
    "        zeroD_PH = torch.cat(((zeroD_PH, death)), 0)\n",
    "\n",
    "        births = torch.zeros(zeroD_PH.shape[0], 1)\n",
    "    zeroD_PH_births_deaths = torch.cat((births, zeroD_PH ),1)\n",
    "    \n",
    "    return zeroD_PH_births_deaths"
   ]
  },
  {
   "cell_type": "code",
   "execution_count": 78,
   "id": "529a730d",
   "metadata": {},
   "outputs": [],
   "source": [
    "\n",
    "PH_7_giving_30_points = torch.tensor([[ 0.5738, -0.1217,  0.8099],\n",
    "        [-0.4035,  0.7019, -0.5870],\n",
    "        [ 0.7303, -0.3869,  0.5630],\n",
    "        [ 0.8971,  0.3825,  0.2210],\n",
    "        [ 0.4737,  0.6196,  0.6259],\n",
    "        [ 0.2366,  0.3971, -0.8868],\n",
    "        [-0.8723, -0.3745, -0.3145],\n",
    "        [-0.1204,  0.1281, -0.9844],\n",
    "        [ 0.3959,  0.6088, -0.6875],\n",
    "        [-0.8566,  0.1515,  0.4933],\n",
    "        [-0.0366, -0.6735,  0.7383],\n",
    "        [ 0.1010, -0.3231, -0.9410],\n",
    "        [-0.9367, -0.2104,  0.2798],\n",
    "        [-0.4023,  0.2617, -0.8773],\n",
    "        [-0.7749,  0.4295, -0.4638],\n",
    "        [ 0.4113,  0.6073,  0.6797],\n",
    "        [ 0.1690,  0.7614, -0.6259],\n",
    "        [-0.3786, -0.4929, -0.7834],\n",
    "        [ 0.3846,  0.2930,  0.8753],\n",
    "        [-0.3639, -0.6566,  0.6607],\n",
    "        [-0.5986,  0.7731,  0.2096],\n",
    "        [ 0.6488, -0.3099, -0.6950],\n",
    "        [-0.4391, -0.6711, -0.5974],\n",
    "        [ 0.3209, -0.6878, -0.6511],\n",
    "        [ 0.7513,  0.3147, -0.5801],\n",
    "        [ 0.3028,  0.8917,  0.3365],\n",
    "        [ 0.1806, -0.9513, -0.2499],\n",
    "        [-0.5198, -0.6968,  0.4943],\n",
    "        [-0.9573, -0.1228, -0.2618],\n",
    "        [-0.2985,  0.5618,  0.7716]], dtype=torch.float64)\n",
    "\n",
    "PH_8_giving_40_points = torch.tensor([[-0.1724,  0.6586,  0.7325],\n",
    "        [ 0.2713, -0.1220,  0.9547],\n",
    "        [ 0.1882, -0.9015, -0.3897],\n",
    "        [-0.9445,  0.3227, -0.0617],\n",
    "        [-0.7393, -0.4762,  0.4760],\n",
    "        [-0.0352,  0.7986, -0.6009],\n",
    "        [ 0.1162, -0.3318, -0.9362],\n",
    "        [-0.0163, -0.1476,  0.9889],\n",
    "        [ 0.7336, -0.6714, -0.1050],\n",
    "        [-0.4835,  0.5424, -0.6871],\n",
    "        [ 0.8664, -0.1362, -0.4805],\n",
    "        [-0.5724, -0.5164, -0.6369],\n",
    "        [ 0.5185,  0.8413,  0.1531],\n",
    "        [-0.1293, -0.7402,  0.6598],\n",
    "        [-0.2941,  0.9557, -0.0104],\n",
    "        [ 0.2436,  0.9354, -0.2562],\n",
    "        [-0.0104,  0.6418, -0.7668],\n",
    "        [-0.7085, -0.5757,  0.4082],\n",
    "        [-0.4029,  0.8635, -0.3034],\n",
    "        [-0.7054,  0.7084,  0.0221],\n",
    "        [ 0.4764, -0.8767, -0.0664],\n",
    "        [ 0.3562,  0.3095,  0.8816],\n",
    "        [ 0.4282, -0.2256, -0.8751],\n",
    "        [ 0.9888,  0.1135,  0.0972],\n",
    "        [ 0.6825, -0.7305,  0.0236],\n",
    "        [-0.4627, -0.4586,  0.7587],\n",
    "        [-0.5022, -0.3980, -0.7677],\n",
    "        [-0.6761, -0.3225,  0.6625],\n",
    "        [ 0.7988, -0.5689,  0.1955],\n",
    "        [-0.7241,  0.3728,  0.5803],\n",
    "        [ 0.0757, -0.5107,  0.8564],\n",
    "        [-0.1718, -0.6691, -0.7231],\n",
    "        [ 0.7733,  0.5120,  0.3739],\n",
    "        [-0.4602, -0.8877,  0.0103],\n",
    "        [-0.1742, -0.6330,  0.7543],\n",
    "        [-0.3916, -0.9182,  0.0597],\n",
    "        [-0.7885, -0.5381,  0.2980],\n",
    "        [-0.4943, -0.4132, -0.7648],\n",
    "        [ 0.2958,  0.9391,  0.1747],\n",
    "        [ 0.7773,  0.6242,  0.0794]], dtype=torch.float64)"
   ]
  },
  {
   "cell_type": "code",
   "execution_count": null,
   "id": "08ec376c",
   "metadata": {},
   "outputs": [],
   "source": []
  },
  {
   "cell_type": "markdown",
   "id": "83e8a33f",
   "metadata": {},
   "source": [
    "# Point cloud 1"
   ]
  },
  {
   "cell_type": "code",
   "execution_count": 47,
   "id": "7fac5b3d",
   "metadata": {},
   "outputs": [],
   "source": [
    "\n",
    "trial_points = torch.tensor([[ 0.5738, -0.1217,  0.8099],\n",
    "        [-0.4035,  0.7019, -0.5870],\n",
    "        [ 0.7303, -0.3869,  0.5630],\n",
    "        [ 0.8971,  0.3825,  0.2210],\n",
    "        [ 0.4737,  0.6196,  0.6259],\n",
    "        [ 0.2366,  0.3971, -0.8868],\n",
    "        [-0.8723, -0.3745, -0.3145]], dtype=torch.float64)"
   ]
  },
  {
   "cell_type": "markdown",
   "id": "26582bb5",
   "metadata": {},
   "source": [
    "### Distance matrix"
   ]
  },
  {
   "cell_type": "code",
   "execution_count": 48,
   "id": "9b8b81ec",
   "metadata": {},
   "outputs": [
    {
     "data": {
      "text/plain": [
       "tensor([[0.0000, 1.8933, 0.3947, 0.8400, 0.7703, 1.8060, 1.8492],\n",
       "        [1.8933, 0.0000, 1.9477, 1.5641, 1.4991, 0.7697, 1.2053],\n",
       "        [0.3947, 1.9477, 0.0000, 0.8583, 1.0406, 1.7206, 1.8272],\n",
       "        [0.8400, 1.5641, 0.8583, 0.0000, 0.6320, 1.2898, 1.9976],\n",
       "        [0.7703, 1.4991, 1.0406, 0.6320, 0.0000, 1.5473, 1.9195],\n",
       "        [1.8060, 0.7697, 1.7206, 1.2898, 1.5473, 0.0000, 1.4672],\n",
       "        [1.8492, 1.2053, 1.8272, 1.9976, 1.9195, 1.4672, 0.0000]],\n",
       "       dtype=torch.float64)"
      ]
     },
     "execution_count": 48,
     "metadata": {},
     "output_type": "execute_result"
    }
   ],
   "source": [
    "distance_matrix = _compute_distance_matrix(trial_points, p=2)\n",
    "\n",
    "distance_matrix"
   ]
  },
  {
   "cell_type": "markdown",
   "id": "1c9a6685",
   "metadata": {},
   "source": [
    "### Computing Persistent Homology using ripser"
   ]
  },
  {
   "cell_type": "code",
   "execution_count": 49,
   "id": "70681c49",
   "metadata": {},
   "outputs": [
    {
     "name": "stdout",
     "output_type": "stream",
     "text": [
      "Runtime of the program is 0.0010080337524414062\n"
     ]
    }
   ],
   "source": [
    "start = time.time()\n",
    "\n",
    "diagrams = ripser.ripser(distance_matrix.cpu().detach().numpy(), distance_matrix=True, maxdim=7)['dgms']\n",
    "\n",
    "end = time.time()\n",
    "\n",
    "print(f\"Runtime of the program is {end - start}\")"
   ]
  },
  {
   "cell_type": "code",
   "execution_count": 50,
   "id": "5f6e8d48",
   "metadata": {},
   "outputs": [
    {
     "data": {
      "image/png": "[encoded data removed]",
      "text/plain": [
       "<Figure size 640x480 with 1 Axes>"
      ]
     },
     "metadata": {},
     "output_type": "display_data"
    }
   ],
   "source": [
    "plot_diagrams(diagrams, show=True)"
   ]
  },
  {
   "cell_type": "code",
   "execution_count": 51,
   "id": "c5b7b7ec",
   "metadata": {},
   "outputs": [
    {
     "data": {
      "text/plain": [
       "[array([[0.        , 0.39469343],\n",
       "        [0.        , 0.63200313],\n",
       "        [0.        , 0.76974744],\n",
       "        [0.        , 0.77032572],\n",
       "        [0.        , 1.20526624],\n",
       "        [0.        , 1.28984272],\n",
       "        [0.        ,        inf]]),\n",
       " array([[1.49912632, 1.54725039]]),\n",
       " array([], shape=(0, 2), dtype=float64),\n",
       " array([], shape=(0, 2), dtype=float64),\n",
       " array([], shape=(0, 2), dtype=float64),\n",
       " array([], shape=(0, 2), dtype=float64),\n",
       " array([], shape=(0, 2), dtype=float64),\n",
       " array([], shape=(0, 2), dtype=float64)]"
      ]
     },
     "execution_count": 51,
     "metadata": {},
     "output_type": "execute_result"
    }
   ],
   "source": [
    "diagrams"
   ]
  },
  {
   "cell_type": "markdown",
   "id": "78ef768b",
   "metadata": {},
   "source": [
    "### Computing PH using new method"
   ]
  },
  {
   "cell_type": "code",
   "execution_count": 52,
   "id": "0fd89182",
   "metadata": {},
   "outputs": [
    {
     "name": "stdout",
     "output_type": "stream",
     "text": [
      "Runtime of the program is 0.0027930736541748047\n"
     ]
    }
   ],
   "source": [
    "\n",
    "start = time.time()\n",
    "\n",
    "get_zero_dim_PH(distance_matrix)\n",
    "\n",
    "end = time.time()\n",
    "\n",
    "print(f\"Runtime of the program is {end - start}\")"
   ]
  },
  {
   "cell_type": "code",
   "execution_count": null,
   "id": "aee37a65",
   "metadata": {},
   "outputs": [],
   "source": []
  },
  {
   "cell_type": "markdown",
   "id": "7ff5da22",
   "metadata": {},
   "source": [
    "# Point cloud 2"
   ]
  },
  {
   "cell_type": "code",
   "execution_count": 71,
   "id": "1b633119",
   "metadata": {},
   "outputs": [
    {
     "data": {
      "text/plain": [
       "tensor([[0.0000, 1.8933, 0.3947, 0.8400, 0.7703, 1.8060, 1.8492, 1.9401, 1.6756,\n",
       "         1.4903, 0.8260, 1.8248, 1.6033, 1.9866, 1.9352, 0.7582, 1.7336, 1.8930,\n",
       "         0.4605, 1.0898, 1.5923, 1.5185, 1.8189, 1.5871, 1.4677, 1.1509, 1.4021,\n",
       "         1.2753, 1.8689, 1.1088],\n",
       "        [1.8933, 0.0000, 1.9477, 1.5641, 1.4991, 0.7697, 1.2053, 0.7532, 0.8111,\n",
       "         1.2943, 1.9449, 1.1960, 1.3667, 0.5273, 0.4768, 1.5091, 0.5769, 1.2111,\n",
       "         1.7107, 1.8450, 0.8232, 1.4638, 1.3735, 1.5685, 1.2180, 1.1780, 1.7855,\n",
       "         1.7717, 1.0453, 1.3698],\n",
       "        [0.3947, 1.9477, 0.0000, 0.8583, 1.0406, 1.7206, 1.8272, 1.8394, 1.6331,\n",
       "         1.6772, 0.8373, 1.6316, 1.7001, 1.9437, 1.9966, 1.0506, 1.7456, 1.7475,\n",
       "         0.8242, 1.1312, 1.7990, 1.2630, 1.6718, 1.3161, 1.3414, 1.3671, 1.1320,\n",
       "         1.2898, 1.8968, 1.4149],\n",
       "        [0.8400, 1.5641, 0.8583, 0.0000, 0.6320, 1.2898, 1.9976, 1.5978, 1.0620,\n",
       "         1.7897, 1.5015, 1.5754, 1.9282, 1.7057, 1.8074, 0.7049, 1.1794, 1.8446,\n",
       "         0.8359, 1.6921, 1.5459, 1.1748, 1.8882, 1.4960, 0.8171, 0.7911, 1.5856,\n",
       "         1.8020, 1.9817, 1.3284],\n",
       "        [0.7703, 1.4991, 1.0406, 0.6320, 0.0000, 1.5473, 1.9195, 1.7854, 1.3157,\n",
       "         1.4165, 1.3947, 1.8662, 1.6727, 1.7763, 1.6681, 0.0833, 1.2961, 1.9875,\n",
       "         0.4205, 1.5269, 1.1605, 1.6246, 1.9989, 1.8339, 1.2745, 0.4324, 1.8223,\n",
       "         1.6545, 1.8404, 0.7879],\n",
       "        [1.8060, 0.7697, 1.7206, 1.2898, 1.5473, 0.0000, 1.4672, 0.4575, 0.3315,\n",
       "         1.7777, 1.9651, 0.7349, 1.7626, 0.6532, 1.0969, 1.5902, 0.4532, 1.0869,\n",
       "         1.7714, 1.9661, 1.4286, 0.8406, 1.2967, 1.1134, 0.6048, 1.3212, 1.4923,\n",
       "         1.9173, 1.4444, 1.7504],\n",
       "        [1.8492, 1.2053, 1.8272, 1.9976, 1.9195, 1.4672, 0.0000, 1.1255, 1.6475,\n",
       "         0.9641, 1.3770, 1.1586, 0.6199, 0.9708, 0.8235, 1.8974, 1.5721, 0.6911,\n",
       "         1.8550, 1.1354, 1.2910, 1.5693, 0.5964, 1.2787, 1.7837, 1.8461, 1.2023,\n",
       "         0.9393, 0.2708, 1.5445],\n",
       "        [1.9401, 0.7532, 1.8394, 1.5978, 1.7854, 0.4575, 1.1255, 0.0000, 0.7654,\n",
       "         1.6511, 1.9019, 0.5045, 1.5424, 0.3298, 0.8890, 1.8115, 0.7832, 0.7019,\n",
       "         1.9341, 1.8389, 1.4389, 0.9313, 0.9434, 0.9857, 0.9788, 1.5833, 1.3398,\n",
       "         1.7397, 1.1338, 1.8175],\n",
       "        [1.6756, 0.8111, 1.6331, 1.0620, 1.3157, 0.3315, 1.6475, 0.7654, 0.0000,\n",
       "         1.7811, 1.9658, 1.0098, 1.8392, 0.8909, 1.2054, 1.3673, 0.2803, 1.3501,\n",
       "         1.5944, 1.9990, 1.3494, 0.9529, 1.5308, 1.2993, 0.4736, 1.0664, 1.6346,\n",
       "         1.9849, 1.5961, 1.6166],\n",
       "        [1.4903, 1.2943, 1.6772, 1.7897, 1.4165, 1.7777, 0.9641, 1.6511, 1.7811,\n",
       "         0.0000, 1.1887, 1.7887, 0.4277, 1.4481, 1.0000, 1.3602, 1.6360, 1.5079,\n",
       "         1.3063, 0.9611, 0.7304, 1.9726, 1.4285, 1.8441, 1.9401, 1.3844, 1.6865,\n",
       "         0.9127, 0.8097, 0.7465],\n",
       "        [0.8260, 1.9449, 0.8373, 1.5015, 1.3947, 1.9651, 1.3770, 1.9019, 1.9658,\n",
       "         1.1887, 0.0000, 1.7210, 1.1112, 1.9022, 1.7907, 1.3581, 1.9905, 1.5701,\n",
       "         1.0632, 0.3368, 1.6395, 1.6298, 1.3950, 1.4347, 1.8263, 1.6512, 1.0492,\n",
       "         0.5418, 1.4667, 1.2632],\n",
       "        [1.8248, 1.1960, 1.6316, 1.5754, 1.8662, 0.7349, 1.1586, 0.5045, 1.0098,\n",
       "         1.7887, 1.7210, 0.0000, 1.6062, 0.7742, 1.2495, 1.8944, 1.1314, 0.5326,\n",
       "         1.9388, 1.7008, 1.7364, 0.6006, 0.7286, 0.5152, 0.9798, 1.7744, 0.9373,\n",
       "         1.6078, 1.2734, 1.9687],\n",
       "        [1.6033, 1.3667, 1.7001, 1.9282, 1.6727, 1.7626, 0.6199, 1.5424, 1.8392,\n",
       "         0.4277, 1.1112, 1.6062, 0.0000, 1.3592, 0.9943, 1.6265, 1.7284, 1.2336,\n",
       "         1.5342, 0.8199, 1.0424, 1.8639, 1.1088, 1.6359, 1.9658, 1.6596, 1.4415,\n",
       "         0.6756, 0.5490, 1.1160],\n",
       "        [1.9866, 0.5273, 1.9437, 1.7057, 1.7763, 0.6532, 0.9708, 0.3298, 0.8909,\n",
       "         1.4481, 1.9022, 0.7742, 1.3592, 0.0000, 0.5814, 1.7904, 0.7996, 0.7608,\n",
       "         1.9214, 1.7917, 1.2171, 1.2103, 0.9746, 1.2148, 1.1924, 1.5386, 1.4848,\n",
       "         1.6774, 0.9136, 1.6792],\n",
       "        [1.9352, 0.4768, 1.9966, 1.8074, 1.6681, 1.0969, 0.8235, 0.8890, 1.2054,\n",
       "         1.0000, 1.7907, 1.2495, 0.9943, 0.5814, 0.0000, 1.6572, 1.0136, 1.0536,\n",
       "         1.7766, 1.6165, 0.7763, 1.6208, 1.1584, 1.5761, 1.5349, 1.4197, 1.6927,\n",
       "         1.5005, 0.6157, 1.3307],\n",
       "        [0.7582, 1.5091, 1.0506, 0.7049, 0.0833, 1.5902, 1.8974, 1.8115, 1.3673,\n",
       "         1.3602, 1.3581, 1.8944, 1.6265, 1.7904, 1.6572, 0.0000, 1.3368, 1.9938,\n",
       "         0.3712, 1.4828, 1.1262, 1.6696, 1.9971, 1.8592, 1.3373, 0.4587, 1.8294,\n",
       "         1.6131, 1.8145, 0.7172],\n",
       "        [1.7336, 0.5769, 1.7456, 1.1794, 1.2961, 0.4532, 1.5721, 0.7832, 0.2803,\n",
       "         1.6360, 1.9905, 1.1314, 1.7284, 0.7996, 1.0136, 1.3368, 0.0000, 1.3777,\n",
       "         1.5873, 1.9875, 1.1346, 1.1759, 1.5565, 1.4574, 0.7353, 0.9804, 1.7535,\n",
       "         1.9636, 1.4775, 1.4871],\n",
       "        [1.8930, 1.2111, 1.7475, 1.8446, 1.9875, 1.0869, 0.6911, 0.7019, 1.3501,\n",
       "         1.5079, 1.5701, 0.5326, 1.2336, 0.7608, 1.0536, 1.9938, 1.3777, 0.0000,\n",
       "         1.9878, 1.4534, 1.6239, 1.0473, 0.2646, 0.7381, 1.4036, 1.9067, 0.8986,\n",
       "         1.3015, 0.8625, 1.8806],\n",
       "        [0.4605, 1.7107, 0.8242, 0.8359, 0.4205, 1.7714, 1.8550, 1.9341, 1.5944,\n",
       "         1.3063, 1.0632, 1.9388, 1.5342, 1.9214, 1.7766, 0.3712, 1.5873, 1.9878,\n",
       "         0.0000, 1.2280, 1.2808, 1.7027, 1.9434, 1.8155, 1.5010, 0.8096, 1.6900,\n",
       "         1.3938, 1.8074, 0.7414],\n",
       "        [1.0898, 1.8450, 1.1312, 1.6921, 1.5269, 1.9661, 1.1354, 1.8389, 1.9990,\n",
       "         0.9611, 0.3368, 1.7008, 0.8199, 1.7917, 1.6165, 1.4828, 1.9875, 1.4534,\n",
       "         1.2280, 0.0000, 1.5174, 1.7273, 1.2604, 1.4801, 1.9305, 1.7166, 1.1011,\n",
       "         0.2315, 1.2199, 1.2252],\n",
       "        [1.5923, 0.8232, 1.7990, 1.5459, 1.1605, 1.4286, 1.2910, 1.4389, 1.3494,\n",
       "         0.7304, 1.6395, 1.7364, 1.0424, 1.2171, 0.7763, 1.1262, 1.1346, 1.6239,\n",
       "         1.2808, 1.5174, 0.0000, 1.8834, 1.6620, 1.9289, 1.6297, 0.9180, 1.9473,\n",
       "         1.4993, 1.0740, 0.6712],\n",
       "        [1.5185, 1.4638, 1.2630, 1.1748, 1.6246, 0.8406, 1.5693, 0.9313, 0.9529,\n",
       "         1.9726, 1.6298, 0.6006, 1.8639, 1.2103, 1.6208, 1.6696, 1.1759, 1.0473,\n",
       "         1.7027, 1.7273, 1.8834, 0.0000, 1.1504, 0.5022, 0.6433, 1.6210, 0.9103,\n",
       "         1.7117, 1.6740, 1.9514],\n",
       "        [1.8189, 1.3735, 1.6718, 1.8882, 1.9989, 1.2967, 0.5964, 0.9434, 1.5308,\n",
       "         1.4285, 1.3950, 0.7286, 1.1088, 0.9746, 1.1584, 1.9971, 1.5565, 0.2646,\n",
       "         1.9434, 1.2604, 1.6620, 1.1504, 0.0000, 0.7621, 1.5457, 1.9659, 0.7637,\n",
       "         1.0950, 0.8257, 1.8477],\n",
       "        [1.5871, 1.5685, 1.3161, 1.4960, 1.8339, 1.1134, 1.2787, 0.9857, 1.2993,\n",
       "         1.8441, 1.4347, 0.5152, 1.6359, 1.2148, 1.5761, 1.8592, 1.4574, 0.7381,\n",
       "         1.8155, 1.4801, 1.9289, 0.5022, 0.7621, 0.0000, 1.0933, 1.8629, 0.5001,\n",
       "         1.4208, 1.4507, 1.9923],\n",
       "        [1.4677, 1.2180, 1.3414, 0.8171, 1.2745, 0.6048, 1.7837, 0.9788, 0.4736,\n",
       "         1.9401, 1.8263, 0.9798, 1.9658, 1.1924, 1.5349, 1.3373, 0.7353, 1.4036,\n",
       "         1.5010, 1.9305, 1.6297, 0.6433, 1.5457, 1.0933, 0.0000, 1.1723, 1.4274,\n",
       "         1.9476, 1.7922, 1.7292],\n",
       "        [1.1509, 1.1780, 1.3671, 0.7911, 0.4324, 1.3212, 1.8461, 1.5833, 1.0664,\n",
       "         1.3844, 1.6512, 1.7744, 1.6596, 1.5386, 1.4197, 0.4587, 0.9804, 1.9067,\n",
       "         0.8096, 1.7166, 0.9180, 1.6210, 1.9659, 1.8629, 1.1723, 0.0000, 1.9379,\n",
       "         1.7958, 1.7248, 0.8122],\n",
       "        [1.4021, 1.7855, 1.1320, 1.5856, 1.8223, 1.4923, 1.2023, 1.3398, 1.6346,\n",
       "         1.6865, 1.0492, 0.9373, 1.4415, 1.4848, 1.6927, 1.8294, 1.7535, 0.8986,\n",
       "         1.6900, 1.1011, 1.9473, 0.9103, 0.7637, 0.5001, 1.4274, 1.9379, 0.0000,\n",
       "         1.0532, 1.4076, 1.8875],\n",
       "        [1.2753, 1.7717, 1.2898, 1.8020, 1.6545, 1.9173, 0.9393, 1.7397, 1.9849,\n",
       "         0.9127, 0.5418, 1.6078, 0.6756, 1.6774, 1.5005, 1.6131, 1.9636, 1.3015,\n",
       "         1.3938, 0.2315, 1.4993, 1.7117, 1.0950, 1.4208, 1.9476, 1.7958, 1.0532,\n",
       "         0.0000, 1.0453, 1.3076],\n",
       "        [1.8689, 1.0453, 1.8968, 1.9817, 1.8404, 1.4444, 0.2708, 1.1338, 1.5961,\n",
       "         0.8097, 1.4667, 1.2734, 0.5490, 0.9136, 0.6157, 1.8145, 1.4775, 0.8625,\n",
       "         1.8074, 1.2199, 1.0740, 1.6740, 0.8257, 1.4507, 1.7922, 1.7248, 1.4076,\n",
       "         1.0453, 0.0000, 1.4038],\n",
       "        [1.1088, 1.3698, 1.4149, 1.3284, 0.7879, 1.7504, 1.5445, 1.8175, 1.6166,\n",
       "         0.7465, 1.2632, 1.9687, 1.1160, 1.6792, 1.3307, 0.7172, 1.4871, 1.8806,\n",
       "         0.7414, 1.2252, 0.6712, 1.9514, 1.8477, 1.9923, 1.7292, 0.8122, 1.8875,\n",
       "         1.3076, 1.4038, 0.0000]], dtype=torch.float64)"
      ]
     },
     "execution_count": 71,
     "metadata": {},
     "output_type": "execute_result"
    }
   ],
   "source": [
    "#get distance matrix\n",
    "\n",
    "distance_matrix = _compute_distance_matrix(PH_7_giving_30_points, p=2)\n",
    "\n",
    "distance_matrix"
   ]
  },
  {
   "cell_type": "code",
   "execution_count": 72,
   "id": "3bbcaeff",
   "metadata": {},
   "outputs": [
    {
     "name": "stdout",
     "output_type": "stream",
     "text": [
      "Runtime of the program is 0.002143383026123047\n"
     ]
    },
    {
     "data": {
      "text/plain": [
       "array([[0.        , 0.0833036 ],\n",
       "       [0.        , 0.23153792],\n",
       "       [0.        , 0.26459685],\n",
       "       [0.        , 0.27084163],\n",
       "       [0.        , 0.28029436],\n",
       "       [0.        , 0.32982871],\n",
       "       [0.        , 0.3315326 ],\n",
       "       [0.        , 0.33679765],\n",
       "       [0.        , 0.37115595],\n",
       "       [0.        , 0.39469343],\n",
       "       [0.        , 0.42774978],\n",
       "       [0.        , 0.43243217],\n",
       "       [0.        , 0.45753226],\n",
       "       [0.        , 0.46048874],\n",
       "       [0.        , 0.47364411],\n",
       "       [0.        , 0.47677875],\n",
       "       [0.        , 0.50007778],\n",
       "       [0.        , 0.50224894],\n",
       "       [0.        , 0.50446302],\n",
       "       [0.        , 0.51517385],\n",
       "       [0.        , 0.52730596],\n",
       "       [0.        , 0.5326218 ],\n",
       "       [0.        , 0.54902524],\n",
       "       [0.        , 0.59637755],\n",
       "       [0.        , 0.63200313],\n",
       "       [0.        , 0.67123151],\n",
       "       [0.        , 0.67557442],\n",
       "       [0.        , 0.71716934],\n",
       "       [0.        , 0.73036718],\n",
       "       [0.        ,        inf]])"
      ]
     },
     "execution_count": 72,
     "metadata": {},
     "output_type": "execute_result"
    }
   ],
   "source": [
    "# using ripser\n",
    "\n",
    "start = time.time()\n",
    "\n",
    "diagrams = ripser.ripser(distance_matrix.cpu().detach().numpy(), distance_matrix=True, maxdim=0)['dgms']\n",
    "\n",
    "end = time.time()\n",
    "\n",
    "print(f\"Runtime of the program is {end - start}\")\n",
    "\n",
    "diagrams[0]"
   ]
  },
  {
   "cell_type": "code",
   "execution_count": 76,
   "id": "21dc8276",
   "metadata": {},
   "outputs": [
    {
     "name": "stdout",
     "output_type": "stream",
     "text": [
      "Runtime of the program is 0.04267096519470215\n"
     ]
    }
   ],
   "source": [
    "# new method\n",
    "\n",
    "\n",
    "start = time.time()\n",
    "\n",
    "PH_torch = get_zero_dim_PH(distance_matrix)\n",
    "\n",
    "end = time.time()\n",
    "\n",
    "print(f\"Runtime of the program is {end - start}\")"
   ]
  },
  {
   "cell_type": "code",
   "execution_count": 77,
   "id": "7a0f9fa4",
   "metadata": {},
   "outputs": [
    {
     "data": {
      "text/plain": [
       "tensor([[0.0000, 0.0833],\n",
       "        [0.0000, 0.2315],\n",
       "        [0.0000, 0.2646],\n",
       "        [0.0000, 0.2708],\n",
       "        [0.0000, 0.2803],\n",
       "        [0.0000, 0.3298],\n",
       "        [0.0000, 0.3315],\n",
       "        [0.0000, 0.3368],\n",
       "        [0.0000, 0.3712],\n",
       "        [0.0000, 0.3947],\n",
       "        [0.0000, 0.4205],\n",
       "        [0.0000, 0.4277],\n",
       "        [0.0000, 0.4324],\n",
       "        [0.0000, 0.4532],\n",
       "        [0.0000, 0.4736],\n",
       "        [0.0000, 0.4768],\n",
       "        [0.0000, 0.5001],\n",
       "        [0.0000, 0.5022],\n",
       "        [0.0000, 0.5045],\n",
       "        [0.0000, 0.5273],\n",
       "        [0.0000, 0.5418],\n",
       "        [0.0000, 0.5490],\n",
       "        [0.0000, 0.5814],\n",
       "        [0.0000, 0.5964],\n",
       "        [0.0000, 0.6157],\n",
       "        [0.0000, 0.6320],\n",
       "        [0.0000, 0.6712],\n",
       "        [0.0000, 0.7172],\n",
       "        [0.0000, 0.7637]], dtype=torch.float64)"
      ]
     },
     "execution_count": 77,
     "metadata": {},
     "output_type": "execute_result"
    }
   ],
   "source": [
    "PH_torch"
   ]
  },
  {
   "cell_type": "code",
   "execution_count": null,
   "id": "519010c2",
   "metadata": {},
   "outputs": [],
   "source": []
  },
  {
   "cell_type": "markdown",
   "id": "e30fde37",
   "metadata": {},
   "source": [
    "# Point cloud 3"
   ]
  },
  {
   "cell_type": "code",
   "execution_count": 79,
   "id": "cc96ac77",
   "metadata": {
    "scrolled": false
   },
   "outputs": [
    {
     "data": {
      "text/plain": [
       "tensor([[0.0000, 0.9250, 1.9553,  ..., 1.8693, 0.7804, 1.1531],\n",
       "        [0.9250, 0.0000, 1.5563,  ..., 1.9046, 1.3172, 1.2566],\n",
       "        [1.9553, 1.5563, 0.0000,  ..., 0.9192, 1.9282, 1.7014],\n",
       "        ...,\n",
       "        [1.8693, 1.9046, 0.9192,  ..., 0.0000, 1.8264, 1.8455],\n",
       "        [0.7804, 1.3172, 1.9282,  ..., 1.8264, 0.0000, 0.5832],\n",
       "        [1.1531, 1.2566, 1.7014,  ..., 1.8455, 0.5832, 0.0000]],\n",
       "       dtype=torch.float64)"
      ]
     },
     "execution_count": 79,
     "metadata": {},
     "output_type": "execute_result"
    }
   ],
   "source": [
    "#get distance matrix\n",
    "\n",
    "distance_matrix = _compute_distance_matrix(PH_8_giving_40_points, p=2)\n",
    "\n",
    "distance_matrix"
   ]
  },
  {
   "cell_type": "code",
   "execution_count": 85,
   "id": "7d252401",
   "metadata": {},
   "outputs": [
    {
     "name": "stdout",
     "output_type": "stream",
     "text": [
      "Runtime of the program is 0.0022568702697753906\n"
     ]
    },
    {
     "data": {
      "text/plain": [
       "array([[0.        , 0.01737412],\n",
       "       [0.        , 0.08986974],\n",
       "       [0.        , 0.12428085],\n",
       "       [0.        , 0.14127208],\n",
       "       [0.        , 0.14979352],\n",
       "       [0.        , 0.15047252],\n",
       "       [0.        , 0.18195675],\n",
       "       [0.        , 0.22961727],\n",
       "       [0.        , 0.24418578],\n",
       "       [0.        , 0.24980028],\n",
       "       [0.        , 0.26303965],\n",
       "       [0.        , 0.26823804],\n",
       "       [0.        , 0.2707715 ],\n",
       "       [0.        , 0.29075551],\n",
       "       [0.        , 0.29636416],\n",
       "       [0.        , 0.3151747 ],\n",
       "       [0.        , 0.3258639 ],\n",
       "       [0.        , 0.33519495],\n",
       "       [0.        , 0.33714533],\n",
       "       [0.        , 0.3457478 ],\n",
       "       [0.        , 0.39731833],\n",
       "       [0.        , 0.41379941],\n",
       "       [0.        , 0.43381697],\n",
       "       [0.        , 0.43406606],\n",
       "       [0.        , 0.44580698],\n",
       "       [0.        , 0.46147129],\n",
       "       [0.        , 0.46396312],\n",
       "       [0.        , 0.47065115],\n",
       "       [0.        , 0.4774113 ],\n",
       "       [0.        , 0.48995516],\n",
       "       [0.        , 0.49206391],\n",
       "       [0.        , 0.53085345],\n",
       "       [0.        , 0.54292291],\n",
       "       [0.        , 0.55926055],\n",
       "       [0.        , 0.59642333],\n",
       "       [0.        , 0.63970256],\n",
       "       [0.        , 0.64114672],\n",
       "       [0.        , 0.65078384],\n",
       "       [0.        , 0.651586  ],\n",
       "       [0.        ,        inf]])"
      ]
     },
     "execution_count": 85,
     "metadata": {},
     "output_type": "execute_result"
    }
   ],
   "source": [
    "# using ripser\n",
    "\n",
    "start = time.time()\n",
    "\n",
    "diagrams = ripser.ripser(distance_matrix.cpu().detach().numpy(), distance_matrix=True, maxdim=0)['dgms']\n",
    "\n",
    "end = time.time()\n",
    "\n",
    "print(f\"Runtime of the program is {end - start}\")\n",
    "\n",
    "diagrams[0]"
   ]
  },
  {
   "cell_type": "code",
   "execution_count": 86,
   "id": "1a4af37d",
   "metadata": {},
   "outputs": [
    {
     "name": "stdout",
     "output_type": "stream",
     "text": [
      "Runtime of the program is 0.056728363037109375\n"
     ]
    }
   ],
   "source": [
    "# new method\n",
    "\n",
    "\n",
    "start = time.time()\n",
    "\n",
    "PH_torch = get_zero_dim_PH(distance_matrix)\n",
    "\n",
    "end = time.time()\n",
    "\n",
    "print(f\"Runtime of the program is {end - start}\")"
   ]
  },
  {
   "cell_type": "code",
   "execution_count": 87,
   "id": "2bbe4afb",
   "metadata": {},
   "outputs": [
    {
     "data": {
      "text/plain": [
       "torch.Size([39, 2])"
      ]
     },
     "execution_count": 87,
     "metadata": {},
     "output_type": "execute_result"
    }
   ],
   "source": [
    "PH_torch.shape"
   ]
  },
  {
   "cell_type": "code",
   "execution_count": null,
   "id": "b123cdc7",
   "metadata": {},
   "outputs": [],
   "source": []
  },
  {
   "cell_type": "code",
   "execution_count": null,
   "id": "2825e8a5",
   "metadata": {},
   "outputs": [],
   "source": []
  },
  {
   "cell_type": "code",
   "execution_count": null,
   "id": "55446dab",
   "metadata": {},
   "outputs": [],
   "source": []
  },
  {
   "cell_type": "code",
   "execution_count": null,
   "id": "ecfc13fa",
   "metadata": {},
   "outputs": [],
   "source": []
  }
 ],
 "metadata": {
  "kernelspec": {
   "display_name": "Python 3 (ipykernel)",
   "language": "python",
   "name": "python3"
  },
  "language_info": {
   "codemirror_mode": {
    "name": "ipython",
    "version": 3
   },
   "file_extension": ".py",
   "mimetype": "text/x-python",
   "name": "python",
   "nbconvert_exporter": "python",
   "pygments_lexer": "ipython3",
   "version": "3.9.7"
  }
 },
 "nbformat": 4,
 "nbformat_minor": 5
}
